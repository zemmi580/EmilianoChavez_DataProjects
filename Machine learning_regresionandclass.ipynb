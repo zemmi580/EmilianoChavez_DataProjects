{
 "cells": [
  {
   "cell_type": "markdown",
   "metadata": {
    "editable": true,
    "slideshow": {
     "slide_type": ""
    },
    "tags": []
   },
   "source": [
    "# Assignment 2\n",
    "\n",
    "In this assignment you'll explore the relationship between model complexity and generalization performance, by adjusting key parameters of various supervised learning models. Part 1 of this assignment will look at regression and Part 2 will look at classification.\n",
    "\n",
    "## Part 1 - Regression"
   ]
  },
  {
   "cell_type": "code",
   "execution_count": 18,
   "metadata": {
    "deletable": false,
    "editable": true,
    "nbgrader": {
     "cell_type": "code",
     "checksum": "0eb030de7472f474f2acbff31502ea12",
     "grade": false,
     "grade_id": "cell-82820d5bbf6c4ddf",
     "locked": true,
     "schema_version": 3,
     "solution": false,
     "task": false
    },
    "slideshow": {
     "slide_type": ""
    },
    "tags": []
   },
   "outputs": [],
   "source": [
    "import numpy as np\n",
    "import pandas as pd\n",
    "import matplotlib.pyplot as plt\n",
    "from sklearn.model_selection import train_test_split\n",
    "\n",
    "\n",
    "np.random.seed(0)\n",
    "n = 15\n",
    "x = np.linspace(0,10,n) + np.random.randn(n)/5\n",
    "y = np.sin(x)+x/6 + np.random.randn(n)/10\n",
    "\n",
    "\n",
    "X_train, X_test, y_train, y_test = train_test_split(x, y, random_state=0)\n",
    "\n",
    "def intro():\n",
    "    %matplotlib inline\n",
    "\n",
    "    plt.figure()\n",
    "    plt.scatter(X_train, y_train, label='training data')\n",
    "    plt.scatter(X_test, y_test, label='test data')\n",
    "    plt.legend(loc=4);\n",
    "\n",
    "intro()"
   ]
  },
  {
   "cell_type": "markdown",
   "metadata": {
    "deletable": false,
    "editable": false,
    "nbgrader": {
     "cell_type": "markdown",
     "checksum": "6f1010623ab32922f56be3c510bda9b4",
     "grade": false,
     "grade_id": "cell-035dbae9bf827659",
     "locked": true,
     "schema_version": 3,
     "solution": false,
     "task": false
    },
    "slideshow": {
     "slide_type": ""
    },
    "tags": []
   },
   "source": [
    "### Question 1\n",
    "\n",
    "Write a function that fits a polynomial LinearRegression model on the *training data* `X_train` for degrees 1, 3, 6, and 9. (Use PolynomialFeatures in sklearn.preprocessing to create the polynomial features and then fit a linear regression model) For each model, find 100 predicted values over the interval x = 0 to 10 (e.g. `np.linspace(0,10,100)`) and store this in a numpy array. The first row of this array should correspond to the output from the model trained on degree 1, the second row degree 3, the third row degree 6, and the fourth row degree 9.\n",
    "\n",
    "<img src=\"assets/polynomialreg1.png\" style=\"width: 1000px;\"/>\n",
    "\n",
    "The figure above shows the fitted models plotted on top of the original data (using `plot_one()`).\n",
    "\n",
    "<br>\n",
    "*This function should return a numpy array with shape `(4, 100)`*"
   ]
  },
  {
   "cell_type": "code",
   "execution_count": 10,
   "metadata": {
    "collapsed": true,
    "deletable": false,
    "editable": true,
    "jupyter": {
     "outputs_hidden": true
    },
    "nbgrader": {
     "cell_type": "code",
     "checksum": "8436104c34e3504afe30bc2525bb75ea",
     "grade": false,
     "grade_id": "cell-6c513a17d17152d5",
     "locked": false,
     "schema_version": 3,
     "solution": true,
     "task": false
    },
    "scrolled": true,
    "slideshow": {
     "slide_type": ""
    },
    "tags": []
   },
   "outputs": [
    {
     "data": {
      "text/plain": [
       "array([[ 2.53040195e-01,  2.69201547e-01,  2.85362899e-01,\n",
       "         3.01524251e-01,  3.17685603e-01,  3.33846955e-01,\n",
       "         3.50008306e-01,  3.66169658e-01,  3.82331010e-01,\n",
       "         3.98492362e-01,  4.14653714e-01,  4.30815066e-01,\n",
       "         4.46976417e-01,  4.63137769e-01,  4.79299121e-01,\n",
       "         4.95460473e-01,  5.11621825e-01,  5.27783177e-01,\n",
       "         5.43944529e-01,  5.60105880e-01,  5.76267232e-01,\n",
       "         5.92428584e-01,  6.08589936e-01,  6.24751288e-01,\n",
       "         6.40912640e-01,  6.57073992e-01,  6.73235343e-01,\n",
       "         6.89396695e-01,  7.05558047e-01,  7.21719399e-01,\n",
       "         7.37880751e-01,  7.54042103e-01,  7.70203454e-01,\n",
       "         7.86364806e-01,  8.02526158e-01,  8.18687510e-01,\n",
       "         8.34848862e-01,  8.51010214e-01,  8.67171566e-01,\n",
       "         8.83332917e-01,  8.99494269e-01,  9.15655621e-01,\n",
       "         9.31816973e-01,  9.47978325e-01,  9.64139677e-01,\n",
       "         9.80301028e-01,  9.96462380e-01,  1.01262373e+00,\n",
       "         1.02878508e+00,  1.04494644e+00,  1.06110779e+00,\n",
       "         1.07726914e+00,  1.09343049e+00,  1.10959184e+00,\n",
       "         1.12575320e+00,  1.14191455e+00,  1.15807590e+00,\n",
       "         1.17423725e+00,  1.19039860e+00,  1.20655995e+00,\n",
       "         1.22272131e+00,  1.23888266e+00,  1.25504401e+00,\n",
       "         1.27120536e+00,  1.28736671e+00,  1.30352807e+00,\n",
       "         1.31968942e+00,  1.33585077e+00,  1.35201212e+00,\n",
       "         1.36817347e+00,  1.38433482e+00,  1.40049618e+00,\n",
       "         1.41665753e+00,  1.43281888e+00,  1.44898023e+00,\n",
       "         1.46514158e+00,  1.48130294e+00,  1.49746429e+00,\n",
       "         1.51362564e+00,  1.52978699e+00,  1.54594834e+00,\n",
       "         1.56210969e+00,  1.57827105e+00,  1.59443240e+00,\n",
       "         1.61059375e+00,  1.62675510e+00,  1.64291645e+00,\n",
       "         1.65907781e+00,  1.67523916e+00,  1.69140051e+00,\n",
       "         1.70756186e+00,  1.72372321e+00,  1.73988457e+00,\n",
       "         1.75604592e+00,  1.77220727e+00,  1.78836862e+00,\n",
       "         1.80452997e+00,  1.82069132e+00,  1.83685268e+00,\n",
       "         1.85301403e+00],\n",
       "       [ 1.22989539e+00,  1.15143628e+00,  1.07722393e+00,\n",
       "         1.00717881e+00,  9.41221419e-01,  8.79272234e-01,\n",
       "         8.21251741e-01,  7.67080426e-01,  7.16678772e-01,\n",
       "         6.69967266e-01,  6.26866391e-01,  5.87296632e-01,\n",
       "         5.51178474e-01,  5.18432402e-01,  4.88978901e-01,\n",
       "         4.62738455e-01,  4.39631549e-01,  4.19578668e-01,\n",
       "         4.02500297e-01,  3.88316920e-01,  3.76949022e-01,\n",
       "         3.68317088e-01,  3.62341603e-01,  3.58943051e-01,\n",
       "         3.58041918e-01,  3.59558687e-01,  3.63413845e-01,\n",
       "         3.69527874e-01,  3.77821261e-01,  3.88214491e-01,\n",
       "         4.00628046e-01,  4.14982414e-01,  4.31198078e-01,\n",
       "         4.49195522e-01,  4.68895233e-01,  4.90217694e-01,\n",
       "         5.13083391e-01,  5.37412808e-01,  5.63126429e-01,\n",
       "         5.90144741e-01,  6.18388226e-01,  6.47777371e-01,\n",
       "         6.78232660e-01,  7.09674578e-01,  7.42023609e-01,\n",
       "         7.75200238e-01,  8.09124950e-01,  8.43718230e-01,\n",
       "         8.78900563e-01,  9.14592432e-01,  9.50714324e-01,\n",
       "         9.87186723e-01,  1.02393011e+00,  1.06086498e+00,\n",
       "         1.09791181e+00,  1.13499108e+00,  1.17202328e+00,\n",
       "         1.20892890e+00,  1.24562842e+00,  1.28204233e+00,\n",
       "         1.31809110e+00,  1.35369523e+00,  1.38877520e+00,\n",
       "         1.42325149e+00,  1.45704459e+00,  1.49007498e+00,\n",
       "         1.52226316e+00,  1.55352959e+00,  1.58379478e+00,\n",
       "         1.61297919e+00,  1.64100332e+00,  1.66778766e+00,\n",
       "         1.69325268e+00,  1.71731887e+00,  1.73990672e+00,\n",
       "         1.76093671e+00,  1.78032933e+00,  1.79800506e+00,\n",
       "         1.81388438e+00,  1.82788778e+00,  1.83993575e+00,\n",
       "         1.84994877e+00,  1.85784732e+00,  1.86355189e+00,\n",
       "         1.86698296e+00,  1.86806103e+00,  1.86670656e+00,\n",
       "         1.86284006e+00,  1.85638200e+00,  1.84725286e+00,\n",
       "         1.83537314e+00,  1.82066332e+00,  1.80304388e+00,\n",
       "         1.78243530e+00,  1.75875808e+00,  1.73193269e+00,\n",
       "         1.70187963e+00,  1.66851936e+00,  1.63177240e+00,\n",
       "         1.59155920e+00],\n",
       "       [-1.99554310e-01, -3.95192724e-03,  1.79851752e-01,\n",
       "         3.51005136e-01,  5.08831706e-01,  6.52819233e-01,\n",
       "         7.82609240e-01,  8.97986721e-01,  9.98870117e-01,\n",
       "         1.08530155e+00,  1.15743729e+00,  1.21553852e+00,\n",
       "         1.25996233e+00,  1.29115292e+00,  1.30963316e+00,\n",
       "         1.31599632e+00,  1.31089811e+00,  1.29504889e+00,\n",
       "         1.26920626e+00,  1.23416782e+00,  1.19076415e+00,\n",
       "         1.13985218e+00,  1.08230867e+00,  1.01902405e+00,\n",
       "         9.50896441e-01,  8.78825970e-01,  8.03709344e-01,\n",
       "         7.26434655e-01,  6.47876457e-01,  5.68891088e-01,\n",
       "         4.90312256e-01,  4.12946874e-01,  3.37571147e-01,\n",
       "         2.64926923e-01,  1.95718291e-01,  1.30608438e-01,\n",
       "         7.02167560e-02,  1.51162118e-02, -3.41690366e-02,\n",
       "        -7.71657636e-02, -1.13453547e-01, -1.42666382e-01,\n",
       "        -1.64494044e-01, -1.78683194e-01, -1.85038228e-01,\n",
       "        -1.83421873e-01, -1.73755533e-01, -1.56019368e-01,\n",
       "        -1.30252132e-01, -9.65507462e-02, -5.50696232e-02,\n",
       "        -6.01973198e-03,  5.03325883e-02,  1.13667071e-01,\n",
       "         1.83611221e-01,  2.59742264e-01,  3.41589357e-01,\n",
       "         4.28636046e-01,  5.20322987e-01,  6.16050916e-01,\n",
       "         7.15183874e-01,  8.17052690e-01,  9.20958717e-01,\n",
       "         1.02617782e+00,  1.13196463e+00,  1.23755703e+00,\n",
       "         1.34218093e+00,  1.44505526e+00,  1.54539723e+00,\n",
       "         1.64242789e+00,  1.73537785e+00,  1.82349336e+00,\n",
       "         1.90604254e+00,  1.98232198e+00,  2.05166348e+00,\n",
       "         2.11344114e+00,  2.16707864e+00,  2.21205680e+00,\n",
       "         2.24792141e+00,  2.27429129e+00,  2.29086658e+00,\n",
       "         2.29743739e+00,  2.29389257e+00,  2.28022881e+00,\n",
       "         2.25656001e+00,  2.22312684e+00,  2.18030664e+00,\n",
       "         2.12862347e+00,  2.06875850e+00,  2.00156065e+00,\n",
       "         1.92805743e+00,  1.84946605e+00,  1.76720485e+00,\n",
       "         1.68290491e+00,  1.59842194e+00,  1.51584842e+00,\n",
       "         1.43752602e+00,  1.36605824e+00,  1.30432333e+00,\n",
       "         1.25548743e+00],\n",
       "       [ 6.79502311e+00,  4.14319983e+00,  2.23123348e+00,\n",
       "         9.10495789e-01,  5.49805891e-02, -4.41344200e-01,\n",
       "        -6.66950186e-01, -6.94942630e-01, -5.85049356e-01,\n",
       "        -3.85418160e-01, -1.34235808e-01,  1.38818817e-01,\n",
       "         4.11275460e-01,  6.66715699e-01,  8.93747717e-01,\n",
       "         1.08510228e+00,  1.23684005e+00,  1.34766095e+00,\n",
       "         1.41830658e+00,  1.45104750e+00,  1.44924720e+00,\n",
       "         1.41699560e+00,  1.35880469e+00,  1.27936011e+00,\n",
       "         1.18332208e+00,  1.07517020e+00,  9.59086667e-01,\n",
       "         8.38872714e-01,  7.17893915e-01,  5.99049854e-01,\n",
       "         4.84764308e-01,  3.76992320e-01,  2.77240857e-01,\n",
       "         1.86600079e-01,  1.05782530e-01,  3.51678331e-02,\n",
       "        -2.51492292e-02, -7.53091447e-02, -1.15638227e-01,\n",
       "        -1.46600701e-01, -1.68753488e-01, -1.82704653e-01,\n",
       "        -1.89076286e-01, -1.88472380e-01, -1.81452131e-01,\n",
       "        -1.68508885e-01, -1.50054827e-01, -1.26411383e-01,\n",
       "        -9.78051377e-02, -6.43690064e-02, -2.61482605e-02,\n",
       "         1.68890617e-02,  6.48379144e-02,  1.17838792e-01,\n",
       "         1.76057735e-01,  2.39664508e-01,  3.08809690e-01,\n",
       "         3.83601431e-01,  4.64082650e-01,  5.50209411e-01,\n",
       "         6.41831229e-01,  7.38674004e-01,  8.40326238e-01,\n",
       "         9.46229151e-01,  1.05567123e+00,  1.16778763e+00,\n",
       "         1.28156493e+00,  1.39585121e+00,  1.50937203e+00,\n",
       "         1.62075185e+00,  1.72854116e+00,  1.83124880e+00,\n",
       "         1.92737915e+00,  2.01547347e+00,  2.09415473e+00,\n",
       "         2.16217478e+00,  2.21846269e+00,  2.26217283e+00,\n",
       "         2.29273102e+00,  2.30987674e+00,  2.31369930e+00,\n",
       "         2.30466541e+00,  2.28363550e+00,  2.25186565e+00,\n",
       "         2.21099180e+00,  2.16299255e+00,  2.11012657e+00,\n",
       "         2.05484024e+00,  1.99964067e+00,  1.94692929e+00,\n",
       "         1.89879027e+00,  1.85672798e+00,  1.82134730e+00,\n",
       "         1.79196999e+00,  1.76618000e+00,  1.73929025e+00,\n",
       "         1.70372266e+00,  1.64829322e+00,  1.55739279e+00,\n",
       "         1.41005454e+00]])"
      ]
     },
     "execution_count": 10,
     "metadata": {},
     "output_type": "execute_result"
    }
   ],
   "source": [
    "def answer_one():\n",
    "    from sklearn.linear_model import LinearRegression\n",
    "    from sklearn.preprocessing import PolynomialFeatures\n",
    "\n",
    "    grades = [1,3,6,9]\n",
    "    predicciones = np.linspace(0,10,100).reshape(-1, 1)\n",
    "    final = np.zeros((4,100))\n",
    "    X = X_train.reshape(-1, 1)\n",
    "\n",
    "    for i, deg in enumerate(grades):\n",
    "        poly = PolynomialFeatures(degree=deg)\n",
    "        \n",
    "        X_ = poly.fit_transform(X)\n",
    "        predict_ = poly.transform(predicciones)\n",
    "\n",
    "        linreg = LinearRegression()\n",
    "        linreg.fit(X_, y_train)\n",
    "        final[i, :] = linreg.predict(predict_)\n",
    "        \n",
    "    return final\n",
    "answer_one()"
   ]
  },
  {
   "cell_type": "code",
   "execution_count": 11,
   "metadata": {
    "deletable": false,
    "editable": true,
    "nbgrader": {
     "cell_type": "code",
     "checksum": "490e096030c2a5920f27296066dbbf96",
     "grade": true,
     "grade_id": "cell-4b3a4b2c2971710c",
     "locked": true,
     "points": 2,
     "schema_version": 3,
     "solution": false,
     "task": false
    },
    "slideshow": {
     "slide_type": ""
    },
    "tags": []
   },
   "outputs": [
    {
     "data": {
      "image/png": "[encoded data removed]",
      "text/plain": [
       "<Figure size 640x480 with 1 Axes>"
      ]
     },
     "metadata": {},
     "output_type": "display_data"
    },
    {
     "data": {
      "image/png": "[encoded data removed]",
      "text/plain": [
       "<Figure size 1000x500 with 1 Axes>"
      ]
     },
     "metadata": {},
     "output_type": "display_data"
    }
   ],
   "source": [
    "# feel free to use the function plot_one() to replicate the figure \n",
    "# from the prompt once you have completed question one\n",
    "def plot_one(degree_predictions):\n",
    "    plt.figure(figsize=(10,5))\n",
    "    plt.plot(X_train, y_train, 'o', label='training data', markersize=10)\n",
    "    plt.plot(X_test, y_test, 'o', label='test data', markersize=10)\n",
    "    for i,degree in enumerate([1,3,6,9]):\n",
    "        plt.plot(np.linspace(0,10,100), degree_predictions[i], alpha=0.8, lw=2, label='degree={}'.format(degree))\n",
    "    plt.ylim(-1,2.5)\n",
    "    plt.legend(loc=4)\n",
    "    \n",
    "plot_one(answer_one())\n",
    "plt.show()"
   ]
  },
  {
   "cell_type": "code",
   "execution_count": 29,
   "metadata": {},
   "outputs": [],
   "source": []
  },
  {
   "cell_type": "markdown",
   "metadata": {
    "deletable": false,
    "editable": false,
    "nbgrader": {
     "cell_type": "markdown",
     "checksum": "ce5717d687d83501f4a40391d1343a6c",
     "grade": false,
     "grade_id": "cell-0dc74766a78dd360",
     "locked": true,
     "schema_version": 3,
     "solution": false,
     "task": false
    },
    "slideshow": {
     "slide_type": ""
    },
    "tags": []
   },
   "source": [
    "### Question 2\n",
    "\n",
    "Write a function that fits a polynomial LinearRegression model on the training data `X_train` for degrees 0 through 9. For each model compute the $R^2$ (coefficient of determination) regression score on the training data as well as the the test data, and return both of these arrays in a tuple.\n",
    "\n",
    "*This function should return a tuple of numpy arrays `(r2_train, r2_test)`. Both arrays should have shape `(10,)`*"
   ]
  },
  {
   "cell_type": "code",
   "execution_count": 29,
   "metadata": {
    "deletable": false,
    "editable": true,
    "nbgrader": {
     "cell_type": "code",
     "checksum": "396058b742b2cec36e4553b8f24ed21c",
     "grade": false,
     "grade_id": "cell-ae3a83e5eef54645",
     "locked": false,
     "schema_version": 3,
     "solution": true,
     "task": false
    },
    "slideshow": {
     "slide_type": ""
    },
    "tags": []
   },
   "outputs": [
    {
     "data": {
      "text/plain": [
       "(array([0.        , 0.42924578, 0.4510998 , 0.58719954, 0.91941945,\n",
       "        0.97578641, 0.99018233, 0.99352509, 0.99637545, 0.99803706]),\n",
       " array([-0.47808642, -0.45237104, -0.06856984,  0.00533105,  0.73004943,\n",
       "         0.87708301,  0.9214094 ,  0.92021504,  0.63247953, -0.64525316]))"
      ]
     },
     "execution_count": 29,
     "metadata": {},
     "output_type": "execute_result"
    }
   ],
   "source": [
    "def answer_two():\n",
    "    from sklearn.linear_model import LinearRegression\n",
    "    from sklearn.preprocessing import PolynomialFeatures\n",
    "    from sklearn.metrics import r2_score\n",
    "    x = np.arange(10)\n",
    "    X_tr = X_train.reshape(-1, 1)\n",
    "    X_te = X_test.reshape(-1, 1)\n",
    "    r2_train = np.zeros(10)\n",
    "    r2_test = np.zeros(10)\n",
    "    \n",
    "    for i,deg in enumerate(x):\n",
    "        \n",
    "        poly = PolynomialFeatures(deg)\n",
    "        X_train_poly = poly.fit_transform(X_tr, y_train)\n",
    "        X_test_poly =poly.transform(X_te)\n",
    "        lin = LinearRegression()\n",
    "        lin.fit(X_train_poly, y_train)\n",
    "        \n",
    "        train_predict = lin.predict(X_train_poly)\n",
    "        test_predict = lin.predict(X_test_poly)\n",
    "        r2_train[i] = r2_score(y_train, train_predict)\n",
    "        r2_test[i] = r2_score(y_test, test_predict)\n",
    "        \n",
    "        \n",
    "    return r2_train, r2_test\n",
    "answer_two()"
   ]
  },
  {
   "cell_type": "code",
   "execution_count": null,
   "metadata": {
    "deletable": false,
    "editable": false,
    "nbgrader": {
     "cell_type": "code",
     "checksum": "4422cf73539e0fd6a3b7d0498d2e7cc4",
     "grade": true,
     "grade_id": "cell-84a9de5d00b87d2f",
     "locked": true,
     "points": 2,
     "schema_version": 3,
     "solution": false,
     "task": false
    },
    "slideshow": {
     "slide_type": ""
    },
    "tags": []
   },
   "outputs": [],
   "source": []
  },
  {
   "cell_type": "markdown",
   "metadata": {
    "deletable": false,
    "editable": false,
    "nbgrader": {
     "cell_type": "markdown",
     "checksum": "46df6eab1f30c0fb905cecd91de7f86a",
     "grade": false,
     "grade_id": "cell-a61e61b55b9465fc",
     "locked": true,
     "schema_version": 3,
     "solution": false,
     "task": false
    },
    "slideshow": {
     "slide_type": ""
    },
    "tags": []
   },
   "source": [
    "### Question 3\n",
    "\n",
    "Based on the $R^2$ scores from question 2 (degree levels 0 through 9), what degree level corresponds to a model that is underfitting? What degree level corresponds to a model that is overfitting? What choice of degree level would provide a model with good generalization performance on this dataset? \n",
    "\n",
    "(Hint: Try plotting the $R^2$ scores from question 2 to visualize the relationship)\n",
    "\n",
    "*This function should return a tuple with the degree values in this order: `(Underfitting, Overfitting, Good_Generalization)`*"
   ]
  },
  {
   "cell_type": "code",
   "execution_count": 36,
   "metadata": {
    "deletable": false,
    "editable": true,
    "nbgrader": {
     "cell_type": "code",
     "checksum": "cd6238e841d4d51362c3687f8ae4841c",
     "grade": false,
     "grade_id": "cell-721bb32d2df3020f",
     "locked": false,
     "schema_version": 3,
     "solution": true,
     "task": false
    },
    "slideshow": {
     "slide_type": ""
    },
    "tags": []
   },
   "outputs": [
    {
     "data": {
      "image/png": "[encoded data removed]",
      "text/plain": [
       "<Figure size 640x480 with 1 Axes>"
      ]
     },
     "metadata": {},
     "output_type": "display_data"
    },
    {
     "data": {
      "text/plain": [
       "(0, 9, 7)"
      ]
     },
     "execution_count": 36,
     "metadata": {},
     "output_type": "execute_result"
    }
   ],
   "source": [
    "def answer_three():\n",
    "    a, b = answer_two()\n",
    "    plt.figure()\n",
    "    plt.plot(a ,label= 'train')\n",
    "    plt.plot(b , label= 'test')\n",
    "    plt.legend()\n",
    "    plt.show()\n",
    "    return (0,9,7)\n",
    "\n",
    "answer_three()"
   ]
  },
  {
   "cell_type": "code",
   "execution_count": null,
   "metadata": {
    "deletable": false,
    "editable": false,
    "nbgrader": {
     "cell_type": "code",
     "checksum": "ffd5b85a04844aeed8bcfe38dd943faf",
     "grade": true,
     "grade_id": "cell-877e9f32963e0d5a",
     "locked": true,
     "points": 1,
     "schema_version": 3,
     "solution": false,
     "task": false
    },
    "slideshow": {
     "slide_type": ""
    },
    "tags": []
   },
   "outputs": [],
   "source": []
  },
  {
   "cell_type": "markdown",
   "metadata": {
    "deletable": false,
    "editable": false,
    "nbgrader": {
     "cell_type": "markdown",
     "checksum": "828cf6c6860722b3f89ca2a667a8dd4f",
     "grade": false,
     "grade_id": "cell-a99d81381fbc35ee",
     "locked": true,
     "schema_version": 3,
     "solution": false,
     "task": false
    }
   },
   "source": [
    "### Question 4\n",
    "\n",
    "Training models on high degree polynomial features can result in overfitting. Train two models: a non-regularized LinearRegression model and a Lasso Regression model (with parameters `alpha=0.01`, `max_iter=10000`, `tol=0.1`) on polynomial features of degree 12. Return the $R^2$ score for LinearRegression and Lasso model's test sets.\n",
    "\n",
    "*This function should return a tuple `(LinearRegression_R2_test_score, Lasso_R2_test_score)`*"
   ]
  },
  {
   "cell_type": "code",
   "execution_count": 39,
   "metadata": {
    "deletable": false,
    "nbgrader": {
     "cell_type": "code",
     "checksum": "fc87206e6c599bd5e911bfbf6d833dc4",
     "grade": false,
     "grade_id": "cell-55ab7af2f78e174e",
     "locked": false,
     "schema_version": 3,
     "solution": true,
     "task": false
    }
   },
   "outputs": [
    {
     "data": {
      "text/plain": [
       "(-4.311957069817154, 0.6051396919570032)"
      ]
     },
     "execution_count": 39,
     "metadata": {},
     "output_type": "execute_result"
    }
   ],
   "source": [
    "def answer_four():\n",
    "    from sklearn.preprocessing import PolynomialFeatures\n",
    "    from sklearn.linear_model import Lasso, LinearRegression\n",
    "    from sklearn.metrics import r2_score\n",
    "    X_tr = X_train.reshape(-1,1)\n",
    "    X_te = X_test.reshape(-1,1)\n",
    "    poly = PolynomialFeatures(12)\n",
    "    X_train_poly = poly.fit_transform(X_tr, y_train)\n",
    "    X_test_poly = poly.transform(X_te)\n",
    "    lin = LinearRegression().fit(X_train_poly, y_train)\n",
    "    lasso = Lasso(alpha=0.01, max_iter=10000, tol=0.1).fit(X_train_poly, y_train)\n",
    "    lasso_predictions = lasso.predict(X_test_poly)\n",
    "    lin_predictions = lin.predict(X_test_poly)\n",
    "    \n",
    "    return r2_score(y_test, lin_predictions),r2_score(y_test, lasso_predictions)\n",
    "answer_four()"
   ]
  },
  {
   "cell_type": "code",
   "execution_count": null,
   "metadata": {
    "deletable": false,
    "editable": false,
    "nbgrader": {
     "cell_type": "code",
     "checksum": "7b7288eaac59a3be8999b26c2bdef060",
     "grade": true,
     "grade_id": "cell-f1ccfec3713e840c",
     "locked": true,
     "points": 2,
     "schema_version": 3,
     "solution": false,
     "task": false
    }
   },
   "outputs": [],
   "source": []
  },
  {
   "cell_type": "markdown",
   "metadata": {
    "deletable": false,
    "editable": false,
    "nbgrader": {
     "cell_type": "markdown",
     "checksum": "17c987a4ffba18ec6723810fba58241f",
     "grade": false,
     "grade_id": "cell-31c2ed693fab43e6",
     "locked": true,
     "schema_version": 3,
     "solution": false,
     "task": false
    }
   },
   "source": [
    "## Part 2 - Classification\n",
    "\n",
    "For this section of the assignment we will be working with the [UCI Mushroom Data Set](http://archive.ics.uci.edu/ml/datasets/Mushroom?ref=datanews.io) stored in `mushrooms.csv`. The data will be used to trian a model to predict whether or not a mushroom is poisonous. The following attributes are provided:\n",
    "\n",
    "*Attribute Information:*\n",
    "\n",
    "1. cap-shape: bell=b, conical=c, convex=x, flat=f, knobbed=k, sunken=s \n",
    "2. cap-surface: fibrous=f, grooves=g, scaly=y, smooth=s \n",
    "3. cap-color: brown=n, buff=b, cinnamon=c, gray=g, green=r, pink=p, purple=u, red=e, white=w, yellow=y \n",
    "4. bruises?: bruises=t, no=f \n",
    "5. odor: almond=a, anise=l, creosote=c, fishy=y, foul=f, musty=m, none=n, pungent=p, spicy=s \n",
    "6. gill-attachment: attached=a, descending=d, free=f, notched=n \n",
    "7. gill-spacing: close=c, crowded=w, distant=d \n",
    "8. gill-size: broad=b, narrow=n \n",
    "9. gill-color: black=k, brown=n, buff=b, chocolate=h, gray=g, green=r, orange=o, pink=p, purple=u, red=e, white=w, yellow=y \n",
    "10. stalk-shape: enlarging=e, tapering=t \n",
    "11. stalk-root: bulbous=b, club=c, cup=u, equal=e, rhizomorphs=z, rooted=r, missing=? \n",
    "12. stalk-surface-above-ring: fibrous=f, scaly=y, silky=k, smooth=s \n",
    "13. stalk-surface-below-ring: fibrous=f, scaly=y, silky=k, smooth=s \n",
    "14. stalk-color-above-ring: brown=n, buff=b, cinnamon=c, gray=g, orange=o, pink=p, red=e, white=w, yellow=y \n",
    "15. stalk-color-below-ring: brown=n, buff=b, cinnamon=c, gray=g, orange=o, pink=p, red=e, white=w, yellow=y \n",
    "16. veil-type: partial=p, universal=u \n",
    "17. veil-color: brown=n, orange=o, white=w, yellow=y \n",
    "18. ring-number: none=n, one=o, two=t \n",
    "19. ring-type: cobwebby=c, evanescent=e, flaring=f, large=l, none=n, pendant=p, sheathing=s, zone=z \n",
    "20. spore-print-color: black=k, brown=n, buff=b, chocolate=h, green=r, orange=o, purple=u, white=w, yellow=y \n",
    "21. population: abundant=a, clustered=c, numerous=n, scattered=s, several=v, solitary=y \n",
    "22. habitat: grasses=g, leaves=l, meadows=m, paths=p, urban=u, waste=w, woods=d\n",
    "\n",
    "<br>\n",
    "\n",
    "The data in the mushrooms dataset is currently encoded with strings. These values will need to be encoded to numeric to work with sklearn. We'll use pd.get_dummies to convert the categorical variables into indicator variables. "
   ]
  },
  {
   "cell_type": "code",
   "execution_count": 42,
   "metadata": {
    "deletable": false,
    "editable": true,
    "nbgrader": {
     "cell_type": "code",
     "checksum": "af003949c9018bed0b7c646cd4b0b03f",
     "grade": false,
     "grade_id": "cell-e7c80d01d6d17d4d",
     "locked": true,
     "schema_version": 3,
     "solution": false,
     "task": false
    },
    "slideshow": {
     "slide_type": ""
    },
    "tags": []
   },
   "outputs": [],
   "source": [
    "import pandas as pd\n",
    "import numpy as np\n",
    "from sklearn.model_selection import train_test_split\n",
    "\n",
    "\n",
    "mush_df = pd.read_csv('mushrooms.csv')\n",
    "mush_df2 = pd.get_dummies(mush_df)\n",
    "\n",
    "X_mush = mush_df2.iloc[:,2:]\n",
    "y_mush = mush_df2.iloc[:,1]\n",
    "\n",
    "\n",
    "X_train2, X_test2, y_train2, y_test2 = train_test_split(X_mush, y_mush, random_state=0)"
   ]
  },
  {
   "cell_type": "markdown",
   "metadata": {
    "deletable": false,
    "editable": false,
    "nbgrader": {
     "cell_type": "markdown",
     "checksum": "a309b42233d5f15c15d791c51599a8df",
     "grade": false,
     "grade_id": "cell-586eff0179eb4e48",
     "locked": true,
     "schema_version": 3,
     "solution": false,
     "task": false
    },
    "slideshow": {
     "slide_type": ""
    },
    "tags": []
   },
   "source": [
    "### Question 5\n",
    "\n",
    "Using `X_train` and `y_train` from the preceeding cell, train a DecisionTreeClassifier with default parameters and random_state=0. What are the 5 most important features found by the decision tree?\n",
    "\n",
    "*This function should return a list of length 5 of the feature names in descending order of importance.*"
   ]
  },
  {
   "cell_type": "code",
   "execution_count": 53,
   "metadata": {
    "deletable": false,
    "editable": true,
    "nbgrader": {
     "cell_type": "code",
     "checksum": "b34331dd3525c3b25fbc73519bbd7e01",
     "grade": false,
     "grade_id": "cell-55ff1f0e1941bc35",
     "locked": false,
     "schema_version": 3,
     "solution": true,
     "task": false
    },
    "slideshow": {
     "slide_type": ""
    },
    "tags": []
   },
   "outputs": [
    {
     "data": {
      "text/plain": [
       "['odor_n', 'stalk-root_c', 'stalk-root_r', 'spore-print-color_r', 'odor_l']"
      ]
     },
     "execution_count": 53,
     "metadata": {},
     "output_type": "execute_result"
    }
   ],
   "source": [
    "def answer_five():\n",
    "    from sklearn.tree import DecisionTreeClassifier\n",
    "    tree = DecisionTreeClassifier(random_state=0).fit(X_train2,y_train2)\n",
    "    feature_importance = tree.feature_importances_\n",
    "    features = pd.DataFrame({'Feature': X_train2.columns, 'Importance': feature_importance})\n",
    "    features = features.sort_values(by='Importance', ascending=False).head(5)\n",
    "    return features['Feature'].tolist()\n",
    "    \n",
    "answer_five()"
   ]
  },
  {
   "cell_type": "code",
   "execution_count": null,
   "metadata": {
    "deletable": false,
    "editable": false,
    "nbgrader": {
     "cell_type": "code",
     "checksum": "4102243cb57cca9cf6c64b8377eef091",
     "grade": true,
     "grade_id": "cell-45bb9fef0723e714",
     "locked": true,
     "points": 2,
     "schema_version": 3,
     "solution": false,
     "task": false
    },
    "slideshow": {
     "slide_type": ""
    },
    "tags": []
   },
   "outputs": [],
   "source": []
  },
  {
   "cell_type": "markdown",
   "metadata": {
    "deletable": false,
    "editable": false,
    "nbgrader": {
     "cell_type": "markdown",
     "checksum": "dac6022b713452cb6bb37c201782b44d",
     "grade": false,
     "grade_id": "cell-175384240dac6faa",
     "locked": true,
     "schema_version": 3,
     "solution": false,
     "task": false
    },
    "slideshow": {
     "slide_type": ""
    },
    "tags": []
   },
   "source": [
    "### Question 6\n",
    "\n",
    "For this question, use the `validation_curve` function in `sklearn.model_selection` to determine training and test scores for a Support Vector Classifier (`SVC`) with varying parameter values.\n",
    "\n",
    "Create an `SVC` with default parameters (i.e. `kernel='rbf', C=1`) and `random_state=0`. Recall that the kernel width of the RBF kernel is controlled using the `gamma` parameter.  Explore the effect of `gamma` on classifier accuracy by using the `validation_curve` function to find the training and test scores for 6 values of `gamma` from `0.0001` to `10` (i.e. `np.logspace(-4,1,6)`).\n",
    "\n",
    "For each level of `gamma`, `validation_curve` will use 3-fold cross validation (use `cv=3, n_jobs=2` as parameters for `validation_curve`), returning two 6x3 (6 levels of gamma x 3 fits per level) arrays of the scores for the training and test sets in each fold.\n",
    "\n",
    "Find the mean score across the five models for each level of `gamma` for both arrays, creating two arrays of length 6, and return a tuple with the two arrays.\n",
    "\n",
    "e.g.\n",
    "\n",
    "if one of your array of scores is\n",
    "\n",
    "    array([[ 0.5,  0.4,  0.6],\n",
    "           [ 0.7,  0.8,  0.7],\n",
    "           [ 0.9,  0.8,  0.8],\n",
    "           [ 0.8,  0.7,  0.8],\n",
    "           [ 0.7,  0.6,  0.6],\n",
    "           [ 0.4,  0.6,  0.5]])\n",
    "       \n",
    "it should then become\n",
    "\n",
    "    array([ 0.5,  0.73333333,  0.83333333,  0.76666667,  0.63333333, 0.5])\n",
    "\n",
    "*This function should return a tuple of numpy arrays `(training_scores, test_scores)` where each array in the tuple has shape `(6,)`.*"
   ]
  },
  {
   "cell_type": "code",
   "execution_count": 64,
   "metadata": {
    "deletable": false,
    "nbgrader": {
     "cell_type": "code",
     "checksum": "65d5ad93c05a09042f9a32c0f8b84b9f",
     "grade": false,
     "grade_id": "cell-87cac6bdc8ea12a4",
     "locked": false,
     "schema_version": 3,
     "solution": true,
     "task": false
    }
   },
   "outputs": [
    {
     "data": {
      "text/plain": [
       "(array([0.89069424, 0.97275562, 0.99753816, 1.        , 1.        ,\n",
       "        1.        ]),\n",
       " array([0.88987363, 0.9704579 , 0.99622518, 1.        , 1.        ,\n",
       "        0.51649434]))"
      ]
     },
     "execution_count": 64,
     "metadata": {},
     "output_type": "execute_result"
    }
   ],
   "source": [
    "def answer_six():\n",
    "    from sklearn.svm import SVC\n",
    "    from sklearn.model_selection import validation_curve\n",
    "    gamma = np.logspace(-4,1,6)\n",
    "    svc = SVC(kernel='rbf', C=1 ,random_state=0)\n",
    "    train_scores, test_scores = validation_curve(\n",
    "    svc, X_train2, y_train2, param_name='gamma', param_range=gamma, cv=3, n_jobs=2, \n",
    ")\n",
    "    return train_scores.mean(axis = 1), test_scores.mean(axis = 1)\n",
    "answer_six()"
   ]
  },
  {
   "cell_type": "code",
   "execution_count": null,
   "metadata": {
    "deletable": false,
    "editable": false,
    "nbgrader": {
     "cell_type": "code",
     "checksum": "78bed9b2bb9eabdf0c3072db27c1af28",
     "grade": true,
     "grade_id": "cell-ae2a630e8862c3a3",
     "locked": true,
     "points": 2,
     "schema_version": 3,
     "solution": false,
     "task": false
    }
   },
   "outputs": [],
   "source": []
  },
  {
   "cell_type": "markdown",
   "metadata": {
    "deletable": false,
    "editable": false,
    "nbgrader": {
     "cell_type": "markdown",
     "checksum": "f6ac0808fe91645d2f5a9b37bdce3dda",
     "grade": false,
     "grade_id": "cell-40596e2acf966014",
     "locked": true,
     "schema_version": 3,
     "solution": false,
     "task": false
    },
    "slideshow": {
     "slide_type": ""
    },
    "tags": []
   },
   "source": [
    "### Question 7\n",
    "\n",
    "Based on the scores from question 6, what gamma value corresponds to a model that is underfitting? What gamma value corresponds to a model that is overfitting? What choice of gamma would provide a model with good generalization performance on this dataset? \n",
    "\n",
    "(Hint: Try plotting the scores from question 6 to visualize the relationship)\n",
    "\n",
    "*This function should return a tuple with the degree values in this order: `(Underfitting, Overfitting, Good_Generalization)`*"
   ]
  },
  {
   "cell_type": "code",
   "execution_count": 61,
   "metadata": {
    "editable": true,
    "slideshow": {
     "slide_type": ""
    },
    "tags": []
   },
   "outputs": [],
   "source": [
    "tr_mean, te_mean = answer_six()"
   ]
  },
  {
   "cell_type": "code",
   "execution_count": 62,
   "metadata": {
    "editable": true,
    "slideshow": {
     "slide_type": ""
    },
    "tags": []
   },
   "outputs": [
    {
     "data": {
      "image/png": "[encoded data removed]",
      "text/plain": [
       "<Figure size 640x480 with 1 Axes>"
      ]
     },
     "metadata": {},
     "output_type": "display_data"
    }
   ],
   "source": [
    "\n",
    "import matplotlib.pyplot as plt\n",
    "\n",
    "param_range = np.logspace(-4,1,6)\n",
    "param_range\n",
    "\n",
    "plt.title('Validation Curve with SVM')\n",
    "plt.xlabel('$\\gamma$ (gamma)')\n",
    "plt.ylabel('Score')\n",
    "plt.ylim(0.5, 1.1)\n",
    "lw = 2\n",
    "\n",
    "plt.semilogx(param_range, tr_mean, label='Training score',\n",
    "            color='darkorange', lw=lw)\n",
    "plt.semilogx(param_range, te_mean, label='Cross-validation score',\n",
    "            color='navy', lw=lw)\n",
    "plt.show()"
   ]
  },
  {
   "cell_type": "code",
   "execution_count": 63,
   "metadata": {
    "deletable": false,
    "editable": true,
    "nbgrader": {
     "cell_type": "code",
     "checksum": "ac5a576f40d02669a67b9a16cac123a2",
     "grade": false,
     "grade_id": "cell-f159223bb2d29699",
     "locked": false,
     "schema_version": 3,
     "solution": true,
     "task": false
    },
    "slideshow": {
     "slide_type": ""
    },
    "tags": []
   },
   "outputs": [
    {
     "data": {
      "text/plain": [
       "(0.0001, 10, 1)"
      ]
     },
     "execution_count": 63,
     "metadata": {},
     "output_type": "execute_result"
    }
   ],
   "source": [
    "def answer_seven():\n",
    "    #By just looking at the graph\n",
    "    return (0.0001,10,1)\n",
    "answer_seven()"
   ]
  },
  {
   "cell_type": "code",
   "execution_count": null,
   "metadata": {
    "editable": true,
    "slideshow": {
     "slide_type": ""
    },
    "tags": []
   },
   "outputs": [],
   "source": []
  }
 ],
 "metadata": {
  "kernelspec": {
   "display_name": "Python 3 (ipykernel)",
   "language": "python",
   "name": "python3"
  },
  "language_info": {
   "codemirror_mode": {
    "name": "ipython",
    "version": 3
   },
   "file_extension": ".py",
   "mimetype": "text/x-python",
   "name": "python",
   "nbconvert_exporter": "python",
   "pygments_lexer": "ipython3",
   "version": "3.11.2"
  }
 },
 "nbformat": 4,
 "nbformat_minor": 4
}
